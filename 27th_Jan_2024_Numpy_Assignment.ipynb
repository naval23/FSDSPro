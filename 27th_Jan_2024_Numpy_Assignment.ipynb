{
  "nbformat": 4,
  "nbformat_minor": 0,
  "metadata": {
    "colab": {
      "provenance": []
    },
    "kernelspec": {
      "name": "python3",
      "display_name": "Python 3"
    },
    "language_info": {
      "name": "python"
    }
  },
  "cells": [
    {
      "cell_type": "markdown",
      "source": [
        "1. What is a Python library? Why do we use Python libraries?"
      ],
      "metadata": {
        "id": "7_JmbmEaPvDw"
      }
    },
    {
      "cell_type": "markdown",
      "source": [
        "Soln 1. Pyhton libraraies are the pre-written code that can be used repeatedly in different programs.\n",
        "\n",
        "We use python libraries because :\n",
        "*   It is efficient.\n",
        "*   Readability\n",
        "*   Huge numbers of Libraries\n",
        "*   Reusability\n",
        "*   Can perform multiple task in easier way"
      ],
      "metadata": {
        "id": "HVJq4pgjQTZF"
      }
    },
    {
      "cell_type": "markdown",
      "source": [
        "2. What is the difference between Numpy array and List?"
      ],
      "metadata": {
        "id": "txusRExdbU1c"
      }
    },
    {
      "cell_type": "markdown",
      "source": [
        "Soln 2. The main difference is that NumPy arrays are much faster and have strict requirements on the homogeneity of the objects. For example, a NumPy array of strings can only contain strings and no other data types, but a Python list can contain a mixture of strings, numbers, booleans and other objects."
      ],
      "metadata": {
        "id": "WaBIcmSYbUye"
      }
    },
    {
      "cell_type": "markdown",
      "source": [
        "3. Find the shape, size and dimension of the following array?\n",
        "[[1, 2, 3, 4]\n",
        "[5, 6, 7, 8],\n",
        "[9, 10, 11, 12]]"
      ],
      "metadata": {
        "id": "zxF5CSTSbUu7"
      }
    },
    {
      "cell_type": "code",
      "source": [
        "import numpy as np\n",
        "arr = np.array([[1, 2, 3, 4],\n",
        "                [5, 6, 7, 8],\n",
        "                [9, 10, 11, 12]])\n",
        "print(f\"Shape: {arr.shape}\")\n",
        "print(f\"Size: {arr.size}\")\n",
        "print(f\"Dimension: {arr.ndim}\")"
      ],
      "metadata": {
        "colab": {
          "base_uri": "https://localhost:8080/"
        },
        "id": "RkLToN595QpX",
        "outputId": "02878ed5-fd3c-4227-9d48-61517494f5a2"
      },
      "execution_count": null,
      "outputs": [
        {
          "output_type": "stream",
          "name": "stdout",
          "text": [
            "Shape: (3, 4)\n",
            "Size: 12\n",
            "Dimension: 2\n"
          ]
        }
      ]
    },
    {
      "cell_type": "markdown",
      "source": [
        "4. Write python code to access the first row of the following array?\n",
        "[[1, 2, 3, 4]\n",
        "[5, 6, 7, 8],\n",
        "[9, 10, 11, 12]]"
      ],
      "metadata": {
        "id": "zKLdrhjtbUr5"
      }
    },
    {
      "cell_type": "code",
      "source": [
        "import numpy as np\n",
        "arr=np.array([[1, 2, 3, 4],\n",
        "                [5, 6, 7, 8],\n",
        "                [9, 10, 11, 12]])\n",
        "print(f\"First Row : \",arr[0])"
      ],
      "metadata": {
        "colab": {
          "base_uri": "https://localhost:8080/"
        },
        "id": "4HkgkPcr5naJ",
        "outputId": "62f10483-c938-46f1-af59-96029e6ebbdd"
      },
      "execution_count": null,
      "outputs": [
        {
          "output_type": "stream",
          "name": "stdout",
          "text": [
            "First Row :  [1 2 3 4]\n"
          ]
        }
      ]
    },
    {
      "cell_type": "markdown",
      "source": [
        "5. How do you access the element at the third row ana fourth column from the given numpy array?\n",
        "[[1, 2, 3, 4]\n",
        "[5, 6, 7, 8],\n",
        "[9, 10, 11, 12]]"
      ],
      "metadata": {
        "id": "c0OnihoUbUoa"
      }
    },
    {
      "cell_type": "code",
      "source": [
        "import numpy as np\n",
        "arr=np.array([[1, 2, 3, 4],\n",
        "                [5, 6, 7, 8],\n",
        "                [9, 10, 11, 12]])\n",
        "print(\"Element at 3rd Row and 4th Column : \",arr[2][3])"
      ],
      "metadata": {
        "colab": {
          "base_uri": "https://localhost:8080/"
        },
        "id": "jH17yq3y6Wfg",
        "outputId": "c225fe32-f7c5-4f08-bd9c-c35f44aabec7"
      },
      "execution_count": null,
      "outputs": [
        {
          "output_type": "stream",
          "name": "stdout",
          "text": [
            "Element at 3rd Row and 4th Column :  12\n"
          ]
        }
      ]
    },
    {
      "cell_type": "markdown",
      "source": [
        "6. Write code to extract all odd indexed elements from the given numpy array?\n",
        "[[1, 2, 3, 4]\n",
        "[5, 6, 7, 8],\n",
        "[9, 10, 11, 12]]"
      ],
      "metadata": {
        "id": "qQ_H7PZ7bUik"
      }
    },
    {
      "cell_type": "code",
      "source": [
        "import numpy as np\n",
        "arr=np.array([[1, 2, 3, 4],\n",
        "                [5, 6, 7, 8],\n",
        "                [9, 10, 11, 12]])\n",
        "\n",
        "print(\"all odd indexed elements from the given numpy array are : \",arr[:, ::2])"
      ],
      "metadata": {
        "colab": {
          "base_uri": "https://localhost:8080/"
        },
        "id": "Wz-1JhdN7QxN",
        "outputId": "8da4350e-4ce0-4ca7-d3a4-8109b8ea1dda"
      },
      "execution_count": null,
      "outputs": [
        {
          "output_type": "stream",
          "name": "stdout",
          "text": [
            "all odd indexed elements from the given numpy array are :  [[ 1  3]\n",
            " [ 5  7]\n",
            " [ 9 11]]\n"
          ]
        }
      ]
    },
    {
      "cell_type": "markdown",
      "source": [
        "7. How can you generate a random 3x3 matrix with values between 0 and 1?"
      ],
      "metadata": {
        "id": "V1akCeuJbUXJ"
      }
    },
    {
      "cell_type": "code",
      "execution_count": null,
      "metadata": {
        "id": "nfhzmhCBPJiN",
        "colab": {
          "base_uri": "https://localhost:8080/"
        },
        "outputId": "81e30df7-a526-4502-8473-7bff4442fc0f"
      },
      "outputs": [
        {
          "output_type": "stream",
          "name": "stdout",
          "text": [
            "[[0.16052015 0.9097502  0.95783645]\n",
            " [0.89757296 0.41844587 0.0853042 ]\n",
            " [0.77004233 0.63256869 0.58555778]]\n"
          ]
        }
      ],
      "source": [
        "import numpy as np\n",
        "matrix = np.random.rand(3, 3)\n",
        "print(matrix)"
      ]
    },
    {
      "cell_type": "markdown",
      "source": [
        "8. Describe the difference between np.random.rand and np.random.randn?"
      ],
      "metadata": {
        "id": "SWaZbsKOOLIU"
      }
    },
    {
      "cell_type": "markdown",
      "source": [
        "* np.random.rand: generates uniformly distributed random numbers in the half-open\n",
        "interval [0, 1). This means each number within that range has an equal probability of being generated.\n",
        "\n",
        "* np.random.randn: generates normally distributed random numbers with a mean of 0 and a standard deviation of 1. This means most of the generated numbers will be clustered around 0, with progressively fewer numbers occurring the further they are from 0."
      ],
      "metadata": {
        "id": "s2MxKaQcVi6x"
      }
    },
    {
      "cell_type": "markdown",
      "source": [
        "9. Write code to increase the dimension of the following array?\n",
        "[[1, 2, 3, 4]\n",
        "[5, 6, 7, 8],\n",
        "[9, 10, 11, 12]]"
      ],
      "metadata": {
        "id": "BzcozYDlnKUQ"
      }
    },
    {
      "cell_type": "code",
      "source": [
        "import numpy as np\n",
        "arr=np.array([[1, 2, 3, 4],\n",
        "              [5, 6, 7, 8],\n",
        "              [9, 10, 11, 12]])\n",
        "arr1=np.reshape(arr,(6,2))\n",
        "print(\"New Array : \",arr1)\n",
        "print(\"Shape of array : \",arr1.shape)"
      ],
      "metadata": {
        "id": "SgR_X3FUVivs",
        "colab": {
          "base_uri": "https://localhost:8080/"
        },
        "outputId": "2ba68e13-7b07-4ce7-fbcb-55a1fc76b3dc"
      },
      "execution_count": null,
      "outputs": [
        {
          "output_type": "stream",
          "name": "stdout",
          "text": [
            "New Array :  [[ 1  2]\n",
            " [ 3  4]\n",
            " [ 5  6]\n",
            " [ 7  8]\n",
            " [ 9 10]\n",
            " [11 12]]\n",
            "Shape of array :  (6, 2)\n"
          ]
        }
      ]
    },
    {
      "cell_type": "markdown",
      "source": [
        "10. How to transpose the following array in NumPy?\n",
        "[[1, 2, 3, 4]\n",
        "[5, 6, 7, 8],\n",
        "[9, 10, 11, 12]]"
      ],
      "metadata": {
        "id": "PwUXbU0b3RHb"
      }
    },
    {
      "cell_type": "code",
      "source": [
        "import numpy as np\n",
        "arr=np.array([[1,2,3,4],[5,6,7,8],[9,10,11,12]])\n",
        "transposeArray=arr.transpose()\n",
        "print(\"Transpose of array : \",transposeArray)"
      ],
      "metadata": {
        "id": "7vbTxcMCOCkc",
        "colab": {
          "base_uri": "https://localhost:8080/"
        },
        "outputId": "c509036e-ebd6-44ed-b3d2-f7cf6ca5dad3"
      },
      "execution_count": null,
      "outputs": [
        {
          "output_type": "stream",
          "name": "stdout",
          "text": [
            "Transpose of array :  [[ 1  5  9]\n",
            " [ 2  6 10]\n",
            " [ 3  7 11]\n",
            " [ 4  8 12]]\n"
          ]
        }
      ]
    },
    {
      "cell_type": "markdown",
      "source": [
        "11. Consider the following matrix:\n",
        "Matrix A2 [[1, 2, 3, 4],[5, 6, 7, 8],[9, 10, 11, 12]]\n",
        "Matrix B2 [[1, 2, 3, 4],[5, 6, 7, 8],[9, 10, 11, 12]]\n",
        "Perform the following operation using Python\n",
        "* Index wise multiplication\n",
        "* Matix multiplication\n",
        "* Add both the matics\n",
        "* Subtact matix B from A\n",
        "* Divide Matix B by A"
      ],
      "metadata": {
        "id": "R_hxEdXB46sa"
      }
    },
    {
      "cell_type": "code",
      "source": [
        "import numpy as np\n",
        "A = np.array([[1,2,3,4],\n",
        "               [5,6,7,8],\n",
        "               [9,10,11,12]])\n",
        "B = np.array([[1, 2, 3, 4],\n",
        "               [5, 6, 7, 8],\n",
        "               [9, 10, 11, 12]])\n",
        "\n",
        "#Index Wise Multiplication\n",
        "C = A * B\n",
        "print(\"Result of element-wise multiplication:\",C)\n",
        "\n",
        "#Add both the matics\n",
        "Add=A+B\n",
        "print(\"Addition of 2 matrix is : \",Add )\n",
        "\n",
        "#Subtact matix B from A\n",
        "Sub=A-B\n",
        "print(\"Subtraction of 2 matrix is : \",Sub )\n",
        "\n",
        "#Divide Matix B by A\n",
        "Div=B/A\n",
        "print(\"Division of Mtrix B by A is : \",Div)"
      ],
      "metadata": {
        "colab": {
          "base_uri": "https://localhost:8080/"
        },
        "id": "mOjXpw0y4ttX",
        "outputId": "582fe071-a4b4-454a-bd65-e2949a83d4af"
      },
      "execution_count": null,
      "outputs": [
        {
          "output_type": "stream",
          "name": "stdout",
          "text": [
            "Result of element-wise multiplication: [[  1   4   9  16]\n",
            " [ 25  36  49  64]\n",
            " [ 81 100 121 144]]\n",
            "Addition of 2 matrix is :  [[ 2  4  6  8]\n",
            " [10 12 14 16]\n",
            " [18 20 22 24]]\n",
            "Subtraction of 2 matrix is :  [[0 0 0 0]\n",
            " [0 0 0 0]\n",
            " [0 0 0 0]]\n",
            "Division of Mtrix B by A is :  [[1. 1. 1. 1.]\n",
            " [1. 1. 1. 1.]\n",
            " [1. 1. 1. 1.]]\n"
          ]
        }
      ]
    },
    {
      "cell_type": "code",
      "source": [
        "A = np.array([[1, 2], [3, 4]])\n",
        "B = np.array([[5, 6], [7, 8]])\n",
        "\n",
        "matrix_product = np.dot(A, B)\n",
        "matrix_product"
      ],
      "metadata": {
        "colab": {
          "base_uri": "https://localhost:8080/"
        },
        "id": "rAW6XlMZ7EGd",
        "outputId": "b8c3c7e3-ada0-4242-9c32-9f420b725dd9"
      },
      "execution_count": null,
      "outputs": [
        {
          "output_type": "execute_result",
          "data": {
            "text/plain": [
              "array([[19, 22],\n",
              "       [43, 50]])"
            ]
          },
          "metadata": {},
          "execution_count": 54
        }
      ]
    },
    {
      "cell_type": "markdown",
      "source": [
        "12. Which function in Numpy can be used to swap the byte order of an array?\n"
      ],
      "metadata": {
        "id": "axhF0yZ8MTCW"
      }
    },
    {
      "cell_type": "markdown",
      "source": [
        "Soln 12. The function in NumPy to swap the byte order of an array is byteswap()."
      ],
      "metadata": {
        "id": "lRM3wAbgPJIm"
      }
    },
    {
      "cell_type": "code",
      "source": [
        "import numpy as np\n",
        "\n",
        "arr = np.array([0x1234, 0x5678])\n",
        "swapped_arr = arr.byteswap()\n",
        "\n",
        "print(\"Original array:\", arr)\n",
        "print(\"Swapped array:\", swapped_arr)  # Output: [16962 9252]"
      ],
      "metadata": {
        "id": "NBEl7lPZOK9z",
        "colab": {
          "base_uri": "https://localhost:8080/"
        },
        "outputId": "c057c8c5-c51c-44d7-8a1d-20122c40da51"
      },
      "execution_count": null,
      "outputs": [
        {
          "output_type": "stream",
          "name": "stdout",
          "text": [
            "Original array: [ 4660 22136]\n",
            "Swapped array: [3752061439553044480 8671118132548468736]\n"
          ]
        }
      ]
    },
    {
      "cell_type": "markdown",
      "source": [
        "13. What is the significance of the np.linalg.inv function?\n"
      ],
      "metadata": {
        "id": "wljRdjT6MeRC"
      }
    },
    {
      "cell_type": "markdown",
      "source": [
        "Soln 13. The function numpy.linalg.inv() is available in the NumPy module ,it is used to compute the inverse matrix in Python"
      ],
      "metadata": {
        "id": "hBErAPnPOdhR"
      }
    },
    {
      "cell_type": "code",
      "source": [
        "import numpy as np\n",
        "A = np.array([[6, 1, 1, 3],\n",
        "              [4, -2, 5, 1],\n",
        "              [2, 8, 7, 6],\n",
        "              [3, 1, 9, 7]])\n",
        "\n",
        "print(np.linalg.inv(A))"
      ],
      "metadata": {
        "colab": {
          "base_uri": "https://localhost:8080/"
        },
        "id": "DkUIBNk_Ou1h",
        "outputId": "6b6c1ca8-ee9c-4c8c-94f7-dccd89666a58"
      },
      "execution_count": 3,
      "outputs": [
        {
          "output_type": "stream",
          "name": "stdout",
          "text": [
            "[[ 0.13368984  0.10695187  0.02139037 -0.09090909]\n",
            " [-0.00229183  0.02673797  0.14820474 -0.12987013]\n",
            " [-0.12987013  0.18181818  0.06493506 -0.02597403]\n",
            " [ 0.11000764 -0.28342246 -0.11382735  0.23376623]]\n"
          ]
        }
      ]
    },
    {
      "cell_type": "markdown",
      "source": [
        "14. What does the np.reshape function do, and how is it used?"
      ],
      "metadata": {
        "id": "0nbypimeMf5o"
      }
    },
    {
      "cell_type": "markdown",
      "source": [
        "Soln 14. Reshaping means changing the shape of an array.\n",
        "\n",
        "* The shape of an array is the number of elements in each dimension.\n",
        "\n",
        "* By reshaping we can add or remove dimensions or change number of elements in each dimension."
      ],
      "metadata": {
        "id": "TupgthSOM8gX"
      }
    },
    {
      "cell_type": "code",
      "source": [
        "import numpy as np\n",
        "\n",
        "arr = np.array([1, 2, 3, 4, 5, 6, 7, 8, 9, 10, 11, 12])\n",
        "\n",
        "newarr = arr.reshape(4, 3)\n",
        "\n",
        "print(newarr)"
      ],
      "metadata": {
        "colab": {
          "base_uri": "https://localhost:8080/"
        },
        "id": "t69ZhSObNBDF",
        "outputId": "3f10ada6-6b55-47ec-9099-f3934f9c1d29"
      },
      "execution_count": 1,
      "outputs": [
        {
          "output_type": "stream",
          "name": "stdout",
          "text": [
            "[[ 1  2  3]\n",
            " [ 4  5  6]\n",
            " [ 7  8  9]\n",
            " [10 11 12]]\n"
          ]
        }
      ]
    },
    {
      "cell_type": "markdown",
      "source": [
        "15. What is broadcasting in Numpy?"
      ],
      "metadata": {
        "id": "ryewc61XMffS"
      }
    },
    {
      "cell_type": "markdown",
      "source": [
        "Soln 15. Broadcasting describes how NumPy treats arrays with different shapes during arithmetic operations. Subject to certain constraints, the smaller array is “broadcast” across the larger array so that they have compatible shapes."
      ],
      "metadata": {
        "id": "Otnwuh-JOMfG"
      }
    },
    {
      "cell_type": "code",
      "source": [],
      "metadata": {
        "id": "LzRLw84uORae"
      },
      "execution_count": null,
      "outputs": []
    }
  ]
}