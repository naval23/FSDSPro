{
 "cells": [
  {
   "cell_type": "markdown",
   "id": "4091deea-db54-4030-82b8-de656c99b2ed",
   "metadata": {},
   "source": [
    "TOPIC: Python Basics Variable"
   ]
  },
  {
   "cell_type": "markdown",
   "id": "acc5ddf2-5c25-4a64-be8d-813169aa9a91",
   "metadata": {},
   "source": [
    "1. Declare two variables, `x` and `y`, and assign them integer values. Swap the values of these variables without using any temporary variable."
   ]
  },
  {
   "cell_type": "code",
   "execution_count": null,
   "id": "55bea135-e45c-4d79-b013-f9d991885031",
   "metadata": {},
   "outputs": [],
   "source": [
    "x=int(input(\"Enter x value \"))\n",
    "y=int(input(\"Enter y value \"))\n",
    "\n",
    "x,y=y,x\n",
    "\n",
    "print(\"After Swapping Value of x : \", x, \" and y : \", y)"
   ]
  },
  {
   "cell_type": "markdown",
   "id": "cc645652-cb51-4e5c-874c-191a842167a0",
   "metadata": {},
   "source": [
    "2. Create a program that calculates the area of a rectangle. Take the length and width as inputs from the user and store them in variables. \n",
    "Calculate and display the area."
   ]
  },
  {
   "cell_type": "code",
   "execution_count": 2,
   "id": "ffc8c9f9-5e63-4e13-b291-9920cca2dd24",
   "metadata": {},
   "outputs": [
    {
     "name": "stdin",
     "output_type": "stream",
     "text": [
      "Enter length of rectangle 10\n",
      "Enter width of rectangle 5\n"
     ]
    },
    {
     "name": "stdout",
     "output_type": "stream",
     "text": [
      "Area of the rectangle is :  50.0\n"
     ]
    }
   ],
   "source": [
    "l=float(input(\"Enter length of rectangle\"))\n",
    "w=float(input(\"Enter width of rectangle\"))\n",
    "\n",
    "area=l*w\n",
    "\n",
    "print(\"Area of the rectangle is : \",area)"
   ]
  },
  {
   "cell_type": "markdown",
   "id": "884c8e76-00bd-4cd2-842c-57bed40731f4",
   "metadata": {},
   "source": [
    "3. Write a Python program that converts temperatures from Celsius to Fahrenheit. Take the temperature in Celsius as input, store it in a variable,\n",
    "convert it to Fahrenheit, and display the result."
   ]
  },
  {
   "cell_type": "code",
   "execution_count": 3,
   "id": "ce61c6c7-81af-4998-a04c-3dbd8131197e",
   "metadata": {},
   "outputs": [
    {
     "name": "stdin",
     "output_type": "stream",
     "text": [
      "Enter the Temperature in Celcius :  100\n"
     ]
    },
    {
     "name": "stdout",
     "output_type": "stream",
     "text": [
      "Temperature conversion From Celcius to Fahrenheit :  212.0\n"
     ]
    }
   ],
   "source": [
    "temp=float(input(\"Enter the Temperature in Celcius : \"))\n",
    "\n",
    "Fah=(temp*(9/5))+32\n",
    "print(\"Temperature conversion From Celcius to Fahrenheit : \",Fah)"
   ]
  },
  {
   "cell_type": "markdown",
   "id": "503a06c3-3d97-43cf-afdb-f273cd466051",
   "metadata": {},
   "source": [
    "TOPIC: String Based Questions"
   ]
  },
  {
   "cell_type": "markdown",
   "id": "9f71ae1d-b2be-414c-b6dc-20be80fe071f",
   "metadata": {},
   "source": [
    "1. Write a Python program that takes a string as input and prints the length of the string."
   ]
  },
  {
   "cell_type": "code",
   "execution_count": 4,
   "id": "aaea33de-3778-4a0d-b4a5-af85611ead62",
   "metadata": {},
   "outputs": [
    {
     "name": "stdin",
     "output_type": "stream",
     "text": [
      "Enter String Naval\n"
     ]
    },
    {
     "name": "stdout",
     "output_type": "stream",
     "text": [
      "Length of the string is :  5\n"
     ]
    }
   ],
   "source": [
    "st=input(\"Enter String\")\n",
    "\n",
    "print(\"Length of the string is : \",len(st))"
   ]
  },
  {
   "cell_type": "markdown",
   "id": "29a37fb0-e14f-40d1-ab67-d1d8ba95da39",
   "metadata": {},
   "source": [
    "2. Create a program that takes a sentence from the user and counts the number of vowels (a, e, i, o, u) in the string."
   ]
  },
  {
   "cell_type": "code",
   "execution_count": 5,
   "id": "27802ed2-d5e3-441e-9950-6c24deb83f2a",
   "metadata": {},
   "outputs": [
    {
     "name": "stdin",
     "output_type": "stream",
     "text": [
      "Enter String :  Naval\n"
     ]
    },
    {
     "name": "stdout",
     "output_type": "stream",
     "text": [
      "No Of Vowels :  2\n"
     ]
    }
   ],
   "source": [
    "ip=input(\"Enter String : \")\n",
    "\n",
    "vowels = \"aeiouAEIOU\"\n",
    "count = sum(ip.count(vowel) for vowel in vowels)\n",
    "print(\"No Of Vowels : \",count)"
   ]
  },
  {
   "cell_type": "markdown",
   "id": "9d422d07-a42a-4867-8659-4696f46c0580",
   "metadata": {},
   "source": [
    "3. Given a string, reverse the order of characters using string slicing and print the reversed string."
   ]
  },
  {
   "cell_type": "code",
   "execution_count": 6,
   "id": "377eeabe-6d26-481f-81f6-8159d0c9f654",
   "metadata": {},
   "outputs": [
    {
     "name": "stdin",
     "output_type": "stream",
     "text": [
      "Enter a string:  Naval\n"
     ]
    },
    {
     "name": "stdout",
     "output_type": "stream",
     "text": [
      "Reversed string: lavaN\n"
     ]
    }
   ],
   "source": [
    "string = input(\"Enter a string: \")\n",
    "\n",
    "rev_string = string[::-1]\n",
    "\n",
    "print(\"Reversed string:\", rev_string)"
   ]
  },
  {
   "cell_type": "markdown",
   "id": "928c2712-7c8b-48d2-b58c-0259712a2ac0",
   "metadata": {},
   "source": [
    "4.Write a program that takes a string as input and checks if it is a palindrome (reads the same forwards and backwards)."
   ]
  },
  {
   "cell_type": "code",
   "execution_count": 8,
   "id": "43ee9583-3ddf-4f47-aaae-9411667a87df",
   "metadata": {},
   "outputs": [
    {
     "name": "stdin",
     "output_type": "stream",
     "text": [
      "Enter a string:  aba\n"
     ]
    },
    {
     "name": "stdout",
     "output_type": "stream",
     "text": [
      "Palindrome\n"
     ]
    }
   ],
   "source": [
    "string = input(\"Enter a string: \")\n",
    "\n",
    "rev = string[::-1]\n",
    "if rev==string:\n",
    "    print(\"Palindrome\")\n",
    "else:\n",
    "    print(\"Not a Palindrome\")"
   ]
  },
  {
   "cell_type": "markdown",
   "id": "30ca26db-bb7c-44c1-880b-2169f69bc7a6",
   "metadata": {},
   "source": [
    "5. Create a program that takes a string as input and removes all the spaces from it. Print the modified string without spaces."
   ]
  },
  {
   "cell_type": "code",
   "execution_count": 9,
   "id": "4eb984b7-d488-4def-b604-41212999d9cc",
   "metadata": {},
   "outputs": [
    {
     "name": "stdin",
     "output_type": "stream",
     "text": [
      "Enter a string:  Naval Chauhan\n"
     ]
    },
    {
     "name": "stdout",
     "output_type": "stream",
     "text": [
      "Modified string without spaces: NavalChauhan\n"
     ]
    }
   ],
   "source": [
    "string = input(\"Enter a string: \")\n",
    "\n",
    "newString = \"\"\n",
    "\n",
    "for char in string:\n",
    "    if char != \" \":\n",
    "        newString += char\n",
    "\n",
    "print(\"Modified string without spaces:\", newString)"
   ]
  },
  {
   "cell_type": "code",
   "execution_count": null,
   "id": "0c219adb-d491-4db9-b555-923d2e3ecc05",
   "metadata": {},
   "outputs": [],
   "source": []
  }
 ],
 "metadata": {
  "kernelspec": {
   "display_name": "Python 3 (ipykernel)",
   "language": "python",
   "name": "python3"
  },
  "language_info": {
   "codemirror_mode": {
    "name": "ipython",
    "version": 3
   },
   "file_extension": ".py",
   "mimetype": "text/x-python",
   "name": "python",
   "nbconvert_exporter": "python",
   "pygments_lexer": "ipython3",
   "version": "3.10.8"
  }
 },
 "nbformat": 4,
 "nbformat_minor": 5
}
